{
 "cells": [
  {
   "cell_type": "code",
   "execution_count": 5,
   "metadata": {},
   "outputs": [
    {
     "name": "stdout",
     "output_type": "stream",
     "text": [
      "*****\n",
      "[1, 2, 3, 4, 7]\n"
     ]
    }
   ],
   "source": [
    "def bubblesort(data):\n",
    "    for i in range(len(data)-1,-1,-1):\n",
    "        for j in range(i):\n",
    "            if data[j]>data[j+1]:\n",
    "                temp = data[j]\n",
    "                data[j]=data[j+1]\n",
    "                data[j+1]=temp\n",
    "                \n",
    "        print(data)\n",
    "        print(data)\n",
    "\n",
    "data = [2,1,4,7,3]\n",
    "bubblesort(data)\n",
    "print(\"*****\")\n",
    "print(data)"
   ]
  },
  {
   "cell_type": "code",
   "execution_count": null,
   "metadata": {},
   "outputs": [],
   "source": [
    "#data[j], data[j+1] = data[j+1], data[j]"
   ]
  }
 ],
 "metadata": {
  "kernelspec": {
   "display_name": "Python 3",
   "language": "python",
   "name": "python3"
  },
  "language_info": {
   "codemirror_mode": {
    "name": "ipython",
    "version": 3
   },
   "file_extension": ".py",
   "mimetype": "text/x-python",
   "name": "python",
   "nbconvert_exporter": "python",
   "pygments_lexer": "ipython3",
   "version": "3.7.6"
  }
 },
 "nbformat": 4,
 "nbformat_minor": 4
}
